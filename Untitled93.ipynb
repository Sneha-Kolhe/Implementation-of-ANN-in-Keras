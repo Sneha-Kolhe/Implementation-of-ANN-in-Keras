{
 "cells": [
  {
   "cell_type": "markdown",
   "id": "e8dcd681-f93c-46d8-9726-a5d13e5222a7",
   "metadata": {},
   "source": [
    "## Q1. Install and load the latest versions of TensorFlow and Keras. Print their versions."
   ]
  },
  {
   "cell_type": "code",
   "execution_count": null,
   "id": "a8997b94-68da-45ca-9c83-48946d29feae",
   "metadata": {},
   "outputs": [],
   "source": [
    "Install TensorFlow and Keras:\n",
    "\n",
    "Open your terminal or command prompt and run the following commands:\n",
    "\n",
    "Copy code\n",
    "pip install tensorflow\n",
    "This will install the latest version of TensorFlow, which also includes Keras.\n",
    "\n",
    "Load TensorFlow and Keras in Python:\n",
    "\n",
    "Open a Python environment (e.g., Jupyter Notebook, Python script) and import TensorFlow and Keras:\n",
    "\n",
    "python\n",
    "Copy code\n",
    "import tensorflow as tf\n",
    "from tensorflow import keras\n",
    "\n",
    "# Print TensorFlow version\n",
    "print(\"TensorFlow version:\", tf.__version__)\n",
    "\n",
    "# Print Keras version (included in TensorFlow)\n",
    "print(\"Keras version:\", keras.__version__)\n",
    "This code will import TensorFlow and Keras into your Python environment and print their versions.\n",
    "\n",
    "Make sure you have an active internet connection while installing TensorFlow and Keras, as they will be downloaded from the Python Package Index (PyPI). After running the above code, you'll see the versions of TensorFlow and Keras printed in your Python environment."
   ]
  },
  {
   "cell_type": "markdown",
   "id": "f0e025f0-0df8-451a-bcdf-0d6fae6e4014",
   "metadata": {},
   "source": [
    "## Q2. Check for null values, identify categorical variables, and encode them."
   ]
  },
  {
   "cell_type": "code",
   "execution_count": null,
   "id": "ca6d7072-b361-4da1-9bf2-47e179dd89a4",
   "metadata": {},
   "outputs": [],
   "source": []
  }
 ],
 "metadata": {
  "kernelspec": {
   "display_name": "Python 3 (ipykernel)",
   "language": "python",
   "name": "python3"
  },
  "language_info": {
   "codemirror_mode": {
    "name": "ipython",
    "version": 3
   },
   "file_extension": ".py",
   "mimetype": "text/x-python",
   "name": "python",
   "nbconvert_exporter": "python",
   "pygments_lexer": "ipython3",
   "version": "3.10.8"
  }
 },
 "nbformat": 4,
 "nbformat_minor": 5
}
